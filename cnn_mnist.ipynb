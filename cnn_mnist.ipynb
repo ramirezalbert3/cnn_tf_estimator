{
 "cells": [
  {
   "cell_type": "code",
   "execution_count": null,
   "metadata": {
    "collapsed": false
   },
   "outputs": [],
   "source": [
    "import numpy as np\n",
    "import tensorflow as tf\n",
    "from cnn import CNNClassifier\n",
    "\n",
    "tf.logging.set_verbosity(tf.logging.INFO)\n"
   ]
  },
  {
   "cell_type": "code",
   "execution_count": null,
   "metadata": {
    "collapsed": false
   },
   "outputs": [],
   "source": [
    "images_shape = [28, 28, 1]\n",
    "convolutional_layers = [\n",
    "            {'filters': 32,\n",
    "            'kernel_size': [5, 5],\n",
    "            'padding': 'same',\n",
    "            'activation': 'relu'},\n",
    "            {'filters': 64,\n",
    "            'kernel_size': [5, 5],\n",
    "            'padding': 'same',\n",
    "            'activation': 'relu'},\n",
    "            ]\n",
    "\n",
    "pooling_layers = [\n",
    "            {'pool_size': [2, 2],\n",
    "            'strides': 2},\n",
    "            {'pool_size': [2, 2],\n",
    "            'strides': 2},\n",
    "            ]\n",
    "dense_layers = [\n",
    "            {'units': 1024,\n",
    "            'activation': 'relu',\n",
    "            'dropout': 0.4},\n",
    "            ]\n",
    "optimizer = tf.train.GradientDescentOptimizer(learning_rate=0.001)\n",
    "mnist_classifier = CNNClassifier(images_shape=images_shape,\n",
    "                                 convolutional_layers=convolutional_layers,\n",
    "                                 pooling_layers=pooling_layers,\n",
    "                                 dense_layers=dense_layers,\n",
    "                                 n_classes=10,\n",
    "                                 optimizer=optimizer,\n",
    "                                 model_dir=\"/tmp/mnist_convnet_model\")"
   ]
  },
  {
   "cell_type": "code",
   "execution_count": null,
   "metadata": {
    "collapsed": false
   },
   "outputs": [],
   "source": [
    "# Load training and eval data\n",
    "mnist = tf.contrib.learn.datasets.load_dataset(\"mnist\")\n",
    "train_data = mnist.train.images # Returns np.array\n",
    "train_labels = np.asarray(mnist.train.labels, dtype=np.int32)\n",
    "eval_data = mnist.test.images # Returns np.array\n",
    "eval_labels = np.asarray(mnist.test.labels, dtype=np.int32)\n",
    "import pandas as pd\n",
    "pd.DataFrame(train_data).shape\n"
   ]
  },
  {
   "cell_type": "code",
   "execution_count": null,
   "metadata": {
    "collapsed": true
   },
   "outputs": [],
   "source": [
    "# Set up logging for predictions\n",
    "tensors_to_log = {\"probabilities\": \"softmax_tensor\"}\n",
    "logging_hook = tf.train.LoggingTensorHook(tensors=tensors_to_log, every_n_iter=50)\n"
   ]
  },
  {
   "cell_type": "code",
   "execution_count": null,
   "metadata": {
    "collapsed": false,
    "scrolled": true
   },
   "outputs": [],
   "source": [
    "# Train the model\n",
    "train_input_fn = tf.estimator.inputs.numpy_input_fn(\n",
    "    x=train_data,\n",
    "    y=train_labels,\n",
    "    batch_size=100,\n",
    "    num_epochs=None,\n",
    "    shuffle=True)\n",
    "\n",
    "mnist_classifier.train(\n",
    "    input_fn=train_input_fn,\n",
    "    steps=200)\n",
    "    #hooks=[logging_hook])\n"
   ]
  },
  {
   "cell_type": "code",
   "execution_count": null,
   "metadata": {
    "collapsed": false
   },
   "outputs": [],
   "source": [
    "# Evaluate the model and print results\n",
    "eval_input_fn = tf.estimator.inputs.numpy_input_fn(\n",
    "    x=eval_data,\n",
    "    y=eval_labels,\n",
    "    num_epochs=1,\n",
    "    shuffle=False)\n",
    "eval_results = mnist_classifier.evaluate(input_fn=eval_input_fn)\n",
    "print(eval_results)"
   ]
  },
  {
   "cell_type": "raw",
   "metadata": {
    "collapsed": true
   },
   "source": []
  }
 ],
 "metadata": {
  "kernelspec": {
   "display_name": "Python 3",
   "language": "python",
   "name": "python3"
  },
  "language_info": {
   "codemirror_mode": {
    "name": "ipython",
    "version": 3
   },
   "file_extension": ".py",
   "mimetype": "text/x-python",
   "name": "python",
   "nbconvert_exporter": "python",
   "pygments_lexer": "ipython3",
   "version": "3.5.3"
  }
 },
 "nbformat": 4,
 "nbformat_minor": 2
}
